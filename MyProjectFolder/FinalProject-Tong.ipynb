{
 "cells": [
  {
   "cell_type": "markdown",
   "metadata": {},
   "source": [
    "# Final Project: Secret Agent Consulting"
   ]
  },
  {
   "cell_type": "markdown",
   "metadata": {},
   "source": [
    "# Description: \n",
    "Suppose you are a secret agent in UCSD. After completion of finals and papers, you are going back to a journey of a secret mission during winter break. Surprisingly, a young man/woman like you, is actually a senior officer! Therefore you have the authority to choose the location where you are going to pursue the task. The weather condition of the target city and its distance from UCSD are very crucial and you must also keep the location classified. This project of chatbot will help you decide which city you want to go and will also provide you with an encoded name of the city. So please take the advantage and make the choice, agent! (The amount of cities available at this moment is limited and I hope this project will be strengthened when I acquire more knowledge about programming and data science.)"
   ]
  },
  {
   "cell_type": "markdown",
   "metadata": {},
   "source": [
    "# Thank You for a great quarter. "
   ]
  },
  {
   "cell_type": "code",
   "execution_count": null,
   "metadata": {},
   "outputs": [],
   "source": [
    "from my_module.functions import check_hemisphere\n",
    "from my_module.functions import check_dist\n",
    "from my_module.functions import secret_mission\n",
    "from my_module.functions import City"
   ]
  },
  {
   "cell_type": "code",
   "execution_count": null,
   "metadata": {},
   "outputs": [],
   "source": [
    "#the target cities for the user to assess and choose.\n",
    "tokyo = City('Tokyo', 5579, 'north')\n",
    "sydney = City('Sydney', 7511, 'south')\n",
    "nyc = City('New York', 2427, 'north')\n",
    "bj = City('Beijing', 6363, 'north')\n",
    "\n",
    "#starrt the chatbot.\n",
    "def start_mission_advice():\n",
    "    \"\"\"Main function to start the chatbot\"\"\"\n",
    "    \n",
    "    consult_is_ongoing = True\n",
    "    \n",
    "    while consult_is_ongoing:\n",
    "        \n",
    "        #for user to input message.\n",
    "        info = input('Hi Secret UCSD Agent, please choose among these destination: Tokyo, Sydney, New York, Beijing: \\t')\n",
    "        respon = None\n",
    "        \n",
    "        #when user indicate to assess Tokyo.\n",
    "        if 'Tokyo' in info or 'tokyo' in info:\n",
    "            response_wea = check_hemisphere(tokyo.hemi)\n",
    "            response_dist = check_dist(tokyo.posi)\n",
    "            response_cipher = secret_mission(tokyo.name)\n",
    "            print(response_wea)\n",
    "            print(response_dist)\n",
    "            print('Secret Name: ', response_cipher)\n",
    "            \n",
    "        #when user indicate to assess Sydney.\n",
    "        if 'Sydney' in info or 'sydney' in info:\n",
    "            response_wea = check_hemisphere(sydney.hemi)\n",
    "            response_dist = check_dist(sydney.posi)\n",
    "            response_cipher = secret_mission(sydney.name)\n",
    "            print(response_wea)\n",
    "            print(response_dist)\n",
    "            print('Secret Name: ', response_cipher)\n",
    "            \n",
    "        #when user indicate to assess New York.\n",
    "        if 'New York' in info or 'new york' in info:\n",
    "            response_wea = check_hemisphere(nyc.hemi)\n",
    "            response_dist = check_dist(nyc.posi)\n",
    "            response_cipher = secret_mission(nyc.name)\n",
    "            print(response_wea)\n",
    "            print(response_dist)\n",
    "            print('Secret Name: ', response_cipher)\n",
    "            \n",
    "        #when user indicate to assess Beijing.\n",
    "        if 'Beijing' in info or 'beijing' in info:\n",
    "            response_wea = check_hemisphere(bj.hemi)\n",
    "            response_dist = check_dist(bj.posi)\n",
    "            response_cipher = secret_mission(bj.name)\n",
    "            print(response_wea)\n",
    "            print(response_dist)\n",
    "            print('Secret Name: ', response_cipher)\n",
    "            \n",
    "        #user can enter 'quit' to end the chatbot.\n",
    "        if 'quit' in info:\n",
    "            respon = 'It was nice working with you, agent. See you next time.'\n",
    "            consult_is_ongoing = False\n",
    "            \n",
    "        #this part deals with the situation that the user enter irrelevant \n",
    "        #information that the project cannot process.\n",
    "        if not respon:\n",
    "            respon = 'Please indicate a specific location, Agent.'\n",
    "        print(respon)\n",
    "        \n",
    "start_mission_advice()"
   ]
  }
 ],
 "metadata": {
  "kernelspec": {
   "display_name": "Python 3",
   "language": "python",
   "name": "python3"
  },
  "language_info": {
   "codemirror_mode": {
    "name": "ipython",
    "version": 3
   },
   "file_extension": ".py",
   "mimetype": "text/x-python",
   "name": "python",
   "nbconvert_exporter": "python",
   "pygments_lexer": "ipython3",
   "version": "3.6.7"
  }
 },
 "nbformat": 4,
 "nbformat_minor": 2
}
